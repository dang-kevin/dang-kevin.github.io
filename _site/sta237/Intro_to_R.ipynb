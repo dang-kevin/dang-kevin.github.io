{
 "cells": [
  {
   "cell_type": "markdown",
   "metadata": {
    "lines_to_next_cell": 2
   },
   "source": [
    "Introduction to R - Preparatory Material\n",
    "University of Toronto\n",
    "September 2021\n",
    "\n",
    "Original Author: Nicholas Mitsakakis\n",
    "\n",
    "Modifications by Kevin Dang"
   ]
  },
  {
   "cell_type": "code",
   "execution_count": null,
   "metadata": {},
   "outputs": [],
   "source": [
    "# R as a calculator\n",
    "3*2+4/(3+2)\n",
    "3^5\n",
    "log(19)\n",
    "exp(2)\n",
    "pi"
   ]
  },
  {
   "cell_type": "code",
   "execution_count": null,
   "metadata": {},
   "outputs": [],
   "source": [
    "# assignment\n",
    "x <- 2+3\n",
    "y <- \"hello\""
   ]
  },
  {
   "cell_type": "code",
   "execution_count": null,
   "metadata": {},
   "outputs": [],
   "source": [
    "# the values have been stored\n",
    "x \n",
    "y"
   ]
  },
  {
   "cell_type": "code",
   "execution_count": null,
   "metadata": {},
   "outputs": [],
   "source": [
    "# this operation cannot be done\n",
    "x+y"
   ]
  },
  {
   "cell_type": "code",
   "execution_count": null,
   "metadata": {},
   "outputs": [],
   "source": [
    "#vectors - 1-dimensional data structures\n",
    "x <- c(4,5,6)\n",
    "x <- 4:6"
   ]
  },
  {
   "cell_type": "code",
   "execution_count": null,
   "metadata": {},
   "outputs": [],
   "source": [
    "y <- c(\"Hello\",\"cruel\",\"world\")"
   ]
  },
  {
   "cell_type": "code",
   "execution_count": null,
   "metadata": {},
   "outputs": [],
   "source": [
    "length(x)\n",
    "length(y)"
   ]
  },
  {
   "cell_type": "code",
   "execution_count": null,
   "metadata": {},
   "outputs": [],
   "source": [
    "# Appending vectors\n",
    "x <- c(x,c(10,20,20),8)\n",
    "x"
   ]
  },
  {
   "cell_type": "markdown",
   "metadata": {},
   "source": [
    "Indexing using integer indices"
   ]
  },
  {
   "cell_type": "code",
   "execution_count": null,
   "metadata": {},
   "outputs": [],
   "source": [
    "# accessing an element\n",
    "x[1]"
   ]
  },
  {
   "cell_type": "code",
   "execution_count": null,
   "metadata": {},
   "outputs": [],
   "source": [
    "# Question: how can we access the last element of a vector?\n",
    "# Modifying an element\n",
    "\n",
    "x[2] <- 10\n",
    "x"
   ]
  },
  {
   "cell_type": "code",
   "execution_count": null,
   "metadata": {},
   "outputs": [],
   "source": [
    "# indexing of a whole section of a vector\n",
    "y[2:3]"
   ]
  },
  {
   "cell_type": "code",
   "execution_count": null,
   "metadata": {
    "lines_to_next_cell": 2
   },
   "outputs": [],
   "source": [
    "# negative indices indicate \"except for\"\n",
    "y[-1]"
   ]
  },
  {
   "cell_type": "code",
   "execution_count": null,
   "metadata": {},
   "outputs": [],
   "source": [
    "# Vectorization operations can naturally extended to vectors - no special coding is required \n",
    "# Very important feature of R, it simplifies coding significantly\n",
    "xx <- x+1\n",
    "xx^2"
   ]
  },
  {
   "cell_type": "code",
   "execution_count": null,
   "metadata": {},
   "outputs": [],
   "source": [
    "# Calculating the mean and standard deviation of the data found in xx\n",
    "mean(xx)\n",
    "sd(xx)"
   ]
  },
  {
   "cell_type": "code",
   "execution_count": null,
   "metadata": {},
   "outputs": [],
   "source": [
    "#Generating vectors of logical type\n",
    "x > 3\n",
    "x > 5"
   ]
  },
  {
   "cell_type": "markdown",
   "metadata": {
    "lines_to_next_cell": 2
   },
   "source": [
    "equality is denoted by '=='\n",
    "single '=' is used for assignment\n",
    ">= means \"greater than or equal\"\n",
    "<= means \"less than or equal\""
   ]
  },
  {
   "cell_type": "markdown",
   "metadata": {
    "lines_to_next_cell": 2
   },
   "source": [
    "Logical Operators \n",
    "& is 'and'\t\n",
    "| is 'or'\t\n",
    "! is 'not'\t"
   ]
  },
  {
   "cell_type": "markdown",
   "metadata": {},
   "source": [
    "Using logical vectors to access and modify elements in vectors"
   ]
  },
  {
   "cell_type": "code",
   "execution_count": null,
   "metadata": {},
   "outputs": [],
   "source": [
    "# Find the elements of x that are larger than 5\n",
    "x[x>5]"
   ]
  },
  {
   "cell_type": "code",
   "execution_count": null,
   "metadata": {},
   "outputs": [],
   "source": [
    "# make these elements equal to 0\n",
    "x[x>5] <- 0"
   ]
  },
  {
   "cell_type": "code",
   "execution_count": null,
   "metadata": {
    "lines_to_next_cell": 2
   },
   "outputs": [],
   "source": [
    "# Find the elements of x that are larger than 4 and smaller than 6\n",
    "x[x>4 & x<6]"
   ]
  },
  {
   "cell_type": "markdown",
   "metadata": {},
   "source": [
    "Higher dimension data structures"
   ]
  },
  {
   "cell_type": "code",
   "execution_count": null,
   "metadata": {},
   "outputs": [],
   "source": [
    "# matrix - 2-dimensional structure\n",
    "M <- matrix(1:12, nrow = 3)\n",
    "M1 <- matrix(1:12, nrow = 3,byrow = T)\n",
    "M1"
   ]
  },
  {
   "cell_type": "markdown",
   "metadata": {},
   "source": [
    "IMPONTANT: vectors, matrices and arrays need to contain elements of the same TYPE\n",
    "i.e. all numeric, all character etc.\n",
    "no mix and match"
   ]
  },
  {
   "cell_type": "code",
   "execution_count": null,
   "metadata": {},
   "outputs": [],
   "source": [
    "# Indexes in matrices, [row,column]\n",
    "M[3,2]\n",
    "M[3,2] <- 16\n",
    "print(M)"
   ]
  },
  {
   "cell_type": "code",
   "execution_count": null,
   "metadata": {
    "lines_to_next_cell": 2
   },
   "outputs": [],
   "source": [
    "dim(M)"
   ]
  },
  {
   "cell_type": "code",
   "execution_count": null,
   "metadata": {},
   "outputs": [],
   "source": [
    "# minus sign for an index indicates \"everything else except\"\n",
    "M[2,c(-1,-2)]\n",
    "M[2,3:4]\n",
    "M[2,-(2:1)]\n",
    "M[2,-2]"
   ]
  },
  {
   "cell_type": "code",
   "execution_count": null,
   "metadata": {
    "lines_to_next_cell": 2
   },
   "outputs": [],
   "source": [
    "# transpose a matrix\n",
    "t(M)"
   ]
  },
  {
   "cell_type": "markdown",
   "metadata": {
    "lines_to_next_cell": 2
   },
   "source": [
    "data frame\n",
    "The most commonly used data structure, like a table with columns as variables and rows as data observations\n",
    "similar with matrices EXCEPT data frames can have columns of different types"
   ]
  },
  {
   "cell_type": "code",
   "execution_count": null,
   "metadata": {},
   "outputs": [],
   "source": [
    "students <- data.frame(name=c(\"John\",\"Mary\",\"Jack\"), age.yrs=c(25,45,33), height.cm=c(177,165,180), weight.kg = c(90,69,85))"
   ]
  },
  {
   "cell_type": "code",
   "execution_count": null,
   "metadata": {},
   "outputs": [],
   "source": [
    "#accessing columns\n",
    "# by column index\n",
    "students[,1]\n",
    "# by column (variable) name\n",
    "students$name\n",
    "# by column name as an index\n",
    "students[, \"name\"]"
   ]
  },
  {
   "cell_type": "markdown",
   "metadata": {},
   "source": [
    "each one of these methods have different advantages and disadvantages, learn to use them all when needed"
   ]
  },
  {
   "cell_type": "code",
   "execution_count": null,
   "metadata": {},
   "outputs": [],
   "source": [
    "# cbind function can be used to bind columns together or to an existing data frame\n",
    "students <- cbind(students,grade=c(67,85,70))"
   ]
  },
  {
   "cell_type": "code",
   "execution_count": null,
   "metadata": {},
   "outputs": [],
   "source": [
    "# dimensions\n",
    "dim(students)"
   ]
  },
  {
   "cell_type": "code",
   "execution_count": null,
   "metadata": {
    "lines_to_next_cell": 2
   },
   "outputs": [],
   "source": [
    "# subseting using conditions\n",
    "students$name[students$grade>80]"
   ]
  },
  {
   "cell_type": "code",
   "execution_count": null,
   "metadata": {},
   "outputs": [],
   "source": [
    "# rbind function can be used to add a row, i.e. an observation\n",
    "students <- rbind(students, data.frame(name=c(\"Jane\"), age.yrs=c(28), height.cm=c(171), weight.kg = c(68)))"
   ]
  },
  {
   "cell_type": "code",
   "execution_count": null,
   "metadata": {},
   "outputs": [],
   "source": [
    "# oops, we forgot the grade!\n",
    "# rows need to have the same length!\n",
    "# TABULAR data\n",
    "students <- rbind(students, data.frame(name=\"Jane\", age.yrs=28, height.cm=171, weight.kg = 68,grade=88))"
   ]
  },
  {
   "cell_type": "markdown",
   "metadata": {},
   "source": [
    "NA, missing data\n",
    "In R missing data are represented by the type NA\n",
    "E.g. suppose Jane's grade was incorrect\n",
    "We need to consider it as missing"
   ]
  },
  {
   "cell_type": "code",
   "execution_count": null,
   "metadata": {
    "lines_to_next_cell": 2
   },
   "outputs": [],
   "source": [
    "students$grade[students$name==\"Jane\"] <- NA\n",
    "students"
   ]
  },
  {
   "cell_type": "code",
   "execution_count": null,
   "metadata": {
    "lines_to_next_cell": 2
   },
   "outputs": [],
   "source": [
    "# Exercise\n",
    "# Add a new student with name Nick with height 187 cm, weight 82 kg, grade 90, but missing age. \n",
    "# Can you add the row at the beginning of the data frame?\n",
    "students <- rbind(data.frame(name=\"Nick\", age.yrs=NA, height.cm = 187, weight.kg = 82, grade =90), students)"
   ]
  },
  {
   "cell_type": "markdown",
   "metadata": {},
   "source": [
    "Classes"
   ]
  },
  {
   "cell_type": "markdown",
   "metadata": {},
   "source": [
    "data in R have different types based on their content (number, character, factor, logical) and their structure (vector, matrix, data.frame, list)"
   ]
  },
  {
   "cell_type": "code",
   "execution_count": null,
   "metadata": {},
   "outputs": [],
   "source": [
    "class(x)\n",
    "class(y)\n",
    "class(students)\n",
    "class(students$name)\n",
    "class(students$age.yrs)"
   ]
  },
  {
   "cell_type": "code",
   "execution_count": null,
   "metadata": {},
   "outputs": [],
   "source": [
    "class(x>3)"
   ]
  },
  {
   "cell_type": "code",
   "execution_count": null,
   "metadata": {},
   "outputs": [],
   "source": [
    "# loops: for, while\n",
    "\n",
    "# Loop is a control structure that results in the execution of a set of commands or expressions for a predifined number of times or until some condition is met\n",
    "\n",
    "# For loops are the most commonly used and we will use them the most here\n",
    "x <- c()\n",
    "\n",
    "for (i in 1:25){\n",
    "  x[i] <- i^2\n",
    "  print(\"hello\")\n",
    "}\n",
    "\n",
    "x"
   ]
  },
  {
   "cell_type": "code",
   "execution_count": null,
   "metadata": {},
   "outputs": [],
   "source": [
    "for (i in c(2,4,7)){\n",
    "  x[i] <- i^2\n",
    "  print(paste(\"hello\",i^2))\n",
    "}"
   ]
  },
  {
   "cell_type": "code",
   "execution_count": null,
   "metadata": {},
   "outputs": [],
   "source": [
    "# Control Structures\n",
    "# if \n",
    "x <- 1\n",
    "y <- 3\n",
    "if (x<y) {\n",
    "  print(\"x is smaller than y\")\n",
    "  print(paste(\"the difference is \",y-x, sep=\"\"))\n",
    "}"
   ]
  },
  {
   "cell_type": "code",
   "execution_count": null,
   "metadata": {},
   "outputs": [],
   "source": [
    "# if else\n",
    "\n",
    "x <- 1\n",
    "y <- 0\n",
    "\n",
    "if (x<y) {\n",
    "  print(\"x is smaller than y\")\n",
    "  print(paste(\"the difference is \",y-x, sep=\"\"))\n",
    "} else {\n",
    "  print(\"x is equal or larger than y\")\n",
    "  print(paste(\"the difference is \",x-y, sep=\"\"))\n",
    "}"
   ]
  },
  {
   "cell_type": "code",
   "execution_count": null,
   "metadata": {},
   "outputs": [],
   "source": [
    "# we also have the 'while' loop\n",
    "# a set of operations is executed as long as a condition is met\n",
    "\n",
    "# toy example\n",
    "\n",
    "# a lotus flower in a pond is increasing its size by 50% each day\n",
    "# at day one its size is 5 squared inches\n",
    "# the area of the pond is 100 sq inches\n",
    "# when will the flower cover the whole pond?\n",
    "\n",
    "size <- 5\n",
    "day <- 1\n",
    "\n",
    "while(size<100){\n",
    "  size <- 1.5*size\n",
    "  day <- day+1\n",
    "}\n",
    "day"
   ]
  },
  {
   "cell_type": "code",
   "execution_count": null,
   "metadata": {},
   "outputs": [],
   "source": [
    "# Functions\n",
    "# make your own function, to do exactly what you want\n",
    "# This can make your code and analysis more efficient, elegant, tidy etc.\n",
    "\n",
    "# functions may or may not have an output value\n",
    "# they may or may not have arguments\n",
    "\n",
    "# example\n",
    "my.add.fn <- function(x,y){\n",
    "  res <- x+y\n",
    "  print(\"Bingo!\")\n",
    "  return(res)\n",
    "}\n",
    "\n",
    "my.add.fn(1,3)"
   ]
  },
  {
   "cell_type": "code",
   "execution_count": null,
   "metadata": {},
   "outputs": [],
   "source": [
    "# they can have default values for arguments\n",
    "plus.1 <- function(x=5){return(x+1)}\n",
    "\n",
    "plus.1()\n",
    "plus.1(3)"
   ]
  },
  {
   "cell_type": "code",
   "execution_count": null,
   "metadata": {},
   "outputs": [],
   "source": [
    "# they can have optional arguments\n",
    "subtract.the.rest <- function(x,...){return(x-sum(...))}\n",
    "subtract.the.rest(5)\n",
    "subtract.the.rest(5,2,3,4)"
   ]
  },
  {
   "cell_type": "code",
   "execution_count": null,
   "metadata": {},
   "outputs": [],
   "source": [
    "# Distributions, 'sample' function\n",
    "\n",
    "# R has different built in functions for a large number of statistical distributions\n",
    "# We can use them to generate random samples from these distributions\n",
    "\n",
    "# e.g a sample of size 100 for a normal distribution with mean=2 and std=3\n",
    "\n",
    "mynormalsample <- rnorm(100,2,3)\n",
    "\n",
    "hist(mynormalsample)"
   ]
  },
  {
   "cell_type": "code",
   "execution_count": null,
   "metadata": {},
   "outputs": [],
   "source": [
    "# are these numbers really random?\n",
    "\n",
    "set.seed(1)\n",
    "rnorm(10,2,3)\n",
    "\n",
    "set.seed(1)\n",
    "rnorm(10,2,3)\n",
    "\n",
    "set.seed(1)\n",
    "rnorm(10,2,3)\n",
    "\n",
    "rnorm(10,2,3)\n",
    "\n",
    "# Question: Why would we ever want to set the seed?"
   ]
  },
  {
   "cell_type": "code",
   "execution_count": null,
   "metadata": {},
   "outputs": [],
   "source": [
    "# Function 'sample' - An important one\n",
    "set.seed(237)\n",
    "?sample\n",
    "sample(5:10) # permutation\n",
    "sample(5:10,3) # sample without replacement\n",
    "sample(5:10,3,replace = T) # sample with replacement"
   ]
  },
  {
   "cell_type": "code",
   "execution_count": null,
   "metadata": {},
   "outputs": [],
   "source": [
    "set.seed(237)\n",
    "sample(5,3,replace = T)\n",
    "# the above is the same as\n",
    "set.seed(237)\n",
    "sample(1:5,3,replace = T)"
   ]
  }
 ],
 "metadata": {
  "jupytext": {
   "cell_metadata_filter": "-all",
   "notebook_metadata_filter": "-all",
   "text_representation": {
    "extension": ".R",
    "format_name": "light"
   }
  },
  "kernelspec": {
   "display_name": "R",
   "language": "R",
   "name": "ir"
  }
 },
 "nbformat": 4,
 "nbformat_minor": 2
}
